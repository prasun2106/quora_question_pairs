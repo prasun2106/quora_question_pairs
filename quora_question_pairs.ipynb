{
 "cells": [
  {
   "cell_type": "markdown",
   "metadata": {},
   "source": [
    "# <div style=\"text-align: center\"> [Quora Question Pairs Competition on Kaggle](https://www.kaggle.com/c/quora-question-pairs/overview) </div> \n",
    "## Description\n",
    "The goal of this competition is to predict which of the provided pairs of questions contain two questions with the same meaning.\n",
    "\n",
    "### [Data Description](https://www.kaggle.com/c/quora-question-pairs/data) from [competition site](https://www.kaggle.com/c/quora-question-pairs/data):\n",
    "The ground truth is the set of labels that have been supplied by human experts. The ground truth labels are inherently subjective, as the true meaning of sentences can never be known with certainty. Human labeling is also a 'noisy' process, and reasonable people will disagree. As a result, the ground truth labels on this dataset should be taken to be 'informed' but not 100% accurate, and may include incorrect labeling. We believe the labels, on the whole, to represent a reasonable consensus, but this may often not be true on a case by case basis for individual items in the dataset.\n",
    "\n",
    "Please note: as an anti-cheating measure, Kaggle has supplemented the test set with computer-generated question pairs. Those rows do not come from Quora, and are not counted in the scoring. All of the questions in the training set are genuine examples from Quora.\n",
    "\n",
    "### Data fields:\n",
    "* `id` - the id of a training set question pair\n",
    "* `qid1, qid2` - unique ids of each question (only available in train.csv)\n",
    "* `question1, question2` - the full text of each question\n",
    "* `is_duplicate` - the target variable, set to 1 if question1 and question2 have essentially the same meaning, and 0 otherwise.\n",
    "\n",
    "## Approach:\n",
    "The approach is explained in the following steps:\n",
    "1. Exploratory Data Analysis\n",
    "2. Text Analysis Steps:\n",
    "    - Text Processing\n",
    "        - Normalization\n",
    "            - To lower case\n",
    "            - Remove punctuation\n",
    "    - Tokenization\n",
    "        - Convert it to words\n",
    "    - Stopwords removal\n",
    "    - Parts of Speech Tagging\n",
    "    - Stemming or Lemmatization - choose one of them based on requirement. Sometimes, Lemmatization can take a long time to give results.\n",
    "    - Named Entity recognition\n",
    "2. Feature Creation\n",
    "    - Create a feature that will indicate the percentage of words common between two questions\n",
    "3. Based on the created feature, train our model to understand the relationship between target variable and the features.\n",
    "\n",
    "Without further ado, let's start with importing data"
   ]
  },
  {
   "cell_type": "code",
   "execution_count": null,
   "metadata": {
    "_cell_guid": "b1076dfc-b9ad-4769-8c92-a6c4dae69d19",
    "_uuid": "8f2839f25d086af736a60e9eeb907d3b93b6e0e5"
   },
   "outputs": [],
   "source": [
    "import numpy as np\n",
    "import pandas as pd\n",
    "import matplotlib.pyplot as plt\n",
    "import seaborn as sns\n",
    "%matplotlib inline"
   ]
  },
  {
   "cell_type": "code",
   "execution_count": null,
   "metadata": {},
   "outputs": [],
   "source": [
    "df_train =  pd.read_csv('../input/quora-question-pairs/train.csv.zip')\n",
    "df_train.head(3)"
   ]
  },
  {
   "cell_type": "code",
   "execution_count": null,
   "metadata": {},
   "outputs": [],
   "source": [
    "df_test = pd.read_csv('../input/quora-question-pairs/test.csv.zip')\n",
    "df_test.head(3)"
   ]
  },
  {
   "cell_type": "markdown",
   "metadata": {},
   "source": [
    "## 1. Exploratory Data Analysis"
   ]
  },
  {
   "cell_type": "code",
   "execution_count": null,
   "metadata": {},
   "outputs": [],
   "source": [
    "# Number of question pairs in train and test set\n",
    "# Number of dupicate pairs in train\n",
    "# Number of unique questions in the entire dataset\n",
    "\n",
    "print(f'shape of train:{df_train.shape}')\n",
    "print(f'shape of test:{df_test.shape}')\n",
    "print(f'number of duplicate pairs in train:{df_train.is_duplicate.sum()}')\n",
    "all_questions_train = pd.concat([df_train['question1'],df_train['question2']], axis = 0)\n",
    "print(f'toal number of questions in train:{len(all)}')\n",
    "\n",
    "\n",
    "\n",
    "qid = pd.Series(df_train['qid1'].tolist() + df_train['qid2'].tolist())\n",
    "\n",
    "print(f'The total number of question pairs in the training set: {len(df_train)}')\n",
    "print(f\"Duplicate Pairs: {sum(df_train['is_duplicate'])}\")\n",
    "print(f\"Number of unique questions: {df_train['qid1'].append(df_train['qid2']).nunique()}\")\n",
    "#print(f\"Number of repeating questions: {len(df_train['qid1'].append(df_train['qid2'])) - df_train['qid1'].append(df_train['qid2']).nunique()}\")\n",
    "\n",
    "print(f'Number of repeating questions: {np.sum(qid.value_counts() > 1)}')\n",
    "\n",
    "\n",
    "# Plotting the histogram of number repeating questions\n",
    "\n"
   ]
  },
  {
   "cell_type": "code",
   "execution_count": null,
   "metadata": {},
   "outputs": [],
   "source": [
    "qid.value_counts()"
   ]
  },
  {
   "cell_type": "code",
   "execution_count": null,
   "metadata": {},
   "outputs": [],
   "source": [
    "# plotting the histogram\n",
    "\n",
    "plt.figure(figsize =  (12,5))\n",
    "\n",
    "plt.hist(qid.value_counts(), bins = 50)\n",
    "plt.yscale('log')\n",
    "plt.title('Number of occurences of questions')\n",
    "plt.xlabel('Number of occurences')\n",
    "plt.ylabel('Number of Questions')"
   ]
  },
  {
   "cell_type": "markdown",
   "metadata": {},
   "source": [
    "# Test Submission\n"
   ]
  },
  {
   "cell_type": "code",
   "execution_count": null,
   "metadata": {},
   "outputs": [],
   "source": [
    "from sklearn.metrics import log_loss"
   ]
  },
  {
   "cell_type": "code",
   "execution_count": null,
   "metadata": {},
   "outputs": [],
   "source": [
    "p = df_train['is_duplicate'].mean()\n",
    "print('predicted score:', log_loss(y_true= df_train['is_duplicate'], y_pred =  np.zeros(len(df_train['is_duplicate'])) + p))"
   ]
  },
  {
   "cell_type": "code",
   "execution_count": null,
   "metadata": {},
   "outputs": [],
   "source": [
    "# Submission\n",
    "\n",
    "df_test = pd.read_csv('../input/quora-question-pairs/test.csv')"
   ]
  },
  {
   "cell_type": "code",
   "execution_count": null,
   "metadata": {},
   "outputs": [],
   "source": [
    "df_train"
   ]
  },
  {
   "cell_type": "code",
   "execution_count": null,
   "metadata": {},
   "outputs": [],
   "source": [
    "df_test.head()"
   ]
  },
  {
   "cell_type": "code",
   "execution_count": null,
   "metadata": {},
   "outputs": [],
   "source": [
    "submission = df_test.copy()"
   ]
  },
  {
   "cell_type": "code",
   "execution_count": null,
   "metadata": {},
   "outputs": [],
   "source": [
    "# submission['is_duplicate'] = p"
   ]
  },
  {
   "cell_type": "code",
   "execution_count": null,
   "metadata": {},
   "outputs": [],
   "source": [
    "submission.drop(['question1','question2'],axis =1, inplace = True)"
   ]
  },
  {
   "cell_type": "code",
   "execution_count": null,
   "metadata": {},
   "outputs": [],
   "source": [
    "submission.reset_index(drop = True)"
   ]
  },
  {
   "cell_type": "code",
   "execution_count": null,
   "metadata": {},
   "outputs": [],
   "source": [
    "submission.head()"
   ]
  },
  {
   "cell_type": "code",
   "execution_count": null,
   "metadata": {},
   "outputs": [],
   "source": [
    "#submission.to_csv('baseline.csv',index = False)"
   ]
  },
  {
   "cell_type": "markdown",
   "metadata": {},
   "source": [
    "Leaderboard score - 0.55  \n",
    "Predicted score - 0.65"
   ]
  },
  {
   "cell_type": "markdown",
   "metadata": {},
   "source": [
    "# Text Analysis"
   ]
  },
  {
   "cell_type": "code",
   "execution_count": null,
   "metadata": {},
   "outputs": [],
   "source": [
    "df_train.info()"
   ]
  },
  {
   "cell_type": "markdown",
   "metadata": {},
   "source": [
    "# Missing Values"
   ]
  },
  {
   "cell_type": "code",
   "execution_count": null,
   "metadata": {},
   "outputs": [],
   "source": [
    "df_train.isna().sum()"
   ]
  },
  {
   "cell_type": "code",
   "execution_count": null,
   "metadata": {},
   "outputs": [],
   "source": [
    "df_train[df_train['question1'].isna() | df_train['question2'].isna()]"
   ]
  },
  {
   "cell_type": "code",
   "execution_count": null,
   "metadata": {},
   "outputs": [],
   "source": [
    "df_train.dropna(inplace = True)"
   ]
  },
  {
   "cell_type": "code",
   "execution_count": null,
   "metadata": {},
   "outputs": [],
   "source": [
    "df_train.info()"
   ]
  },
  {
   "cell_type": "code",
   "execution_count": null,
   "metadata": {},
   "outputs": [],
   "source": [
    "df_train['question1_len'] = df_train['question1'].apply(len)\n",
    "df_train['question2_len'] = df_train['question2'].apply(len)"
   ]
  },
  {
   "cell_type": "code",
   "execution_count": null,
   "metadata": {},
   "outputs": [],
   "source": [
    "df_train.head()"
   ]
  },
  {
   "cell_type": "code",
   "execution_count": null,
   "metadata": {},
   "outputs": [],
   "source": [
    "# Appending both question 1 and 2 together\n",
    "question_train = pd.Series(list(df_train['question1']) + list(df_train['question2']))\n",
    "question_test = pd.Series(list(df_test['question1'])  + list (df_test['question2']))\n",
    "\n",
    "# finding length of questions\n",
    "question_train_length = pd.Series(question_train.apply(lambda x: len(str(x).split())))\n",
    "question_test_length = pd.Series(question_test.apply(lambda x: len(str(x).split())))"
   ]
  },
  {
   "cell_type": "code",
   "execution_count": null,
   "metadata": {},
   "outputs": [],
   "source": [
    "#plotting the length of question 1 and 2 from the training set\n",
    "plt.figure(figsize = (17,8))\n",
    "plt.xlim(0,200)\n",
    "sns.distplot(question_train_length,bins = 200, norm_hist = True, label = 'train') \n",
    "sns.distplot(question_test_length, bins = 200, norm_hist = True, label = 'test')"
   ]
  },
  {
   "cell_type": "code",
   "execution_count": null,
   "metadata": {},
   "outputs": [],
   "source": [
    "train_qs = pd.Series(df_train['question1'].tolist() + df_train['question2'].tolist()).astype(str)\n",
    "test_qs = pd.Series(df_test['question1'].tolist() + df_test['question2'].tolist()).astype(str)\n",
    "\n",
    "dist_train = train_qs.apply(len)\n",
    "dist_test = test_qs.apply(len)\n"
   ]
  },
  {
   "cell_type": "code",
   "execution_count": null,
   "metadata": {},
   "outputs": [],
   "source": [
    "train_qs"
   ]
  },
  {
   "cell_type": "code",
   "execution_count": null,
   "metadata": {},
   "outputs": [],
   "source": [
    "#Histogram\n",
    "\n",
    "plt.figure (figsize = (15,10));\n",
    "\n",
    "plt.hist(dist_train, bins = 200, range = [0,200], color = [0.4, 0.3, 0.1], label = 'Train', normed = True);\n",
    "plt.hist(dist_test, bins = 200, range = [0,200], color = [0.2,0.8,0.1], label = 'Test',normed = True, alpha = 0.7);\n",
    "\n",
    "plt.title('Normalized histogram of Character Count in training and testing set questions');\n",
    "plt.xlabel('Number of Words');\n",
    "plt.ylabel('Normalised frequency (Probability)');\n",
    "plt.legend()\n"
   ]
  },
  {
   "cell_type": "code",
   "execution_count": null,
   "metadata": {},
   "outputs": [],
   "source": [
    "len('djnfjdfj jnsndjsfn')\n",
    "len('jdjf jnvjn'.split(' '))"
   ]
  },
  {
   "cell_type": "code",
   "execution_count": null,
   "metadata": {},
   "outputs": [],
   "source": [
    "train_word = train_qs.apply(lambda x: x.split(' '))\n",
    "test_word = test_qs.apply(lambda x : x.split(' '))\n",
    "n_word_train = train_word.apply(len)\n",
    "n_word_test = test_word.apply(len)"
   ]
  },
  {
   "cell_type": "code",
   "execution_count": null,
   "metadata": {},
   "outputs": [],
   "source": [
    "# Plotting Histogram of word count\n",
    "\n",
    "plt.figure(figsize = (15,10))\n",
    "\n",
    "plt.hist(n_word_train, bins = 50, range = [0,100], color = [0.9,0.3,0.1],density = True, label = 'Train');\n",
    "plt.hist(n_word_test, bins = 50, range = [0,100], color = [0.0,1,0], density = True, alpha = 0.5, label = 'Test' );\n",
    "\n",
    "plt.legend()\n",
    "plt.title('Histogram of number of words in training and testing sets')\n",
    "plt.xlabel('Number of words')\n",
    "plt.ylabel('Normalized frequency (Probability)')"
   ]
  },
  {
   "cell_type": "markdown",
   "metadata": {},
   "source": [
    "Distribution for both training and testing set is almost same. Let's look at the most common words."
   ]
  },
  {
   "cell_type": "code",
   "execution_count": null,
   "metadata": {},
   "outputs": [],
   "source": [
    "duplicate = df_train.groupby('is_duplicate')\n",
    "duplicate[['question1_len','question2_len']].mean()\n"
   ]
  },
  {
   "cell_type": "code",
   "execution_count": null,
   "metadata": {},
   "outputs": [],
   "source": [
    "df_train['question1_word'] = df_train['question1'].apply(lambda x : len(x.split(' ')))\n",
    "df_train['question2_word'] = df_train['question2'].apply(lambda x : len(x.split(' ')))"
   ]
  },
  {
   "cell_type": "code",
   "execution_count": null,
   "metadata": {},
   "outputs": [],
   "source": [
    "duplicate[['question1_word','question2_word']].mean()"
   ]
  },
  {
   "cell_type": "markdown",
   "metadata": {},
   "source": [
    "From the above two averages, we can conclude that number of words and number of characters are lesser in the duplicate pairs"
   ]
  },
  {
   "cell_type": "code",
   "execution_count": null,
   "metadata": {},
   "outputs": [],
   "source": [
    "# Word Cloud\n",
    "\n",
    "# from wordcloud import WordCloud\n",
    "\n",
    "# word_cloud = WordCloud(width = 800, height = 400, max_words = 250, background_color= 'White', colormap = 'Blues').generate(\" \".join(train_qs.astype(str)))\n"
   ]
  },
  {
   "cell_type": "code",
   "execution_count": null,
   "metadata": {},
   "outputs": [],
   "source": [
    "# plt.figure(figsize = (25,20))\n",
    "\n",
    "# plt.imshow(word_cloud)"
   ]
  },
  {
   "cell_type": "markdown",
   "metadata": {},
   "source": [
    "# Steps of NLP:\n",
    "\n",
    "For finding the matches between both the questions we will have to create a suitable feature.\n",
    "\n",
    "Our first feature is going to be word-match-share.\n",
    "\n",
    "1. Initial Feature Analysis"
   ]
  },
  {
   "cell_type": "markdown",
   "metadata": {},
   "source": [
    "1. training set - question 1  \n",
    "for a row - i will find the total number of unique words:\n",
    "1. i will find the exact common words ratio (after removing stopwords)\n",
    "2. I will find the common lemma or roots\n",
    "3. In both the cases, the distribution of duplicate will be plotted\n",
    "\n",
    "Steps:\n",
    "1. remove punctuation\n",
    "2. make them small letters\n",
    "3. remove stopwords\n",
    "4. stemming"
   ]
  },
  {
   "cell_type": "markdown",
   "metadata": {},
   "source": [
    "### First Step:\n",
    "For finding the duplicate questions, we will check the ratio of similar lemma to the total number of unique lemma after removing the stopwords.\n",
    "Few transformations will be applied to each questions:\n",
    "1. Normalization\n",
    "    * Lowercase\n",
    "    * Punctuation removal\n",
    "2. Tokenization\n",
    "3. Stopwords Removal\n",
    "4. Lemmatization\n",
    "\n",
    "### Second Step:\n",
    "After these steps we can attach parts of speec tag to each word in both the questions. In the first step we checked the ratio of similar lemma based only on its face value. In the second step (the modification), we will check the similar words ratio on the basis of the lemma as well as the POS tag attached to it."
   ]
  },
  {
   "cell_type": "code",
   "execution_count": null,
   "metadata": {},
   "outputs": [],
   "source": [
    "question1 = df_train['question1']\n",
    "question2 = df_train['question2']"
   ]
  },
  {
   "cell_type": "code",
   "execution_count": null,
   "metadata": {},
   "outputs": [],
   "source": [
    "# removing punctuation and converting to lower case\n",
    "import string"
   ]
  },
  {
   "cell_type": "code",
   "execution_count": null,
   "metadata": {},
   "outputs": [],
   "source": [
    "question1 = question1.apply((lambda x: (''.join(c for c in x if c not in string.punctuation)).lower()))\n",
    "question2 = question2.apply((lambda x: (''.join(c for c in x if c not in string.punctuation)).lower()))"
   ]
  },
  {
   "cell_type": "code",
   "execution_count": null,
   "metadata": {},
   "outputs": [],
   "source": [
    "# Tokenization:\n",
    "from nltk.tokenize import word_tokenize"
   ]
  },
  {
   "cell_type": "code",
   "execution_count": null,
   "metadata": {},
   "outputs": [],
   "source": [
    "import time"
   ]
  },
  {
   "cell_type": "code",
   "execution_count": null,
   "metadata": {},
   "outputs": [],
   "source": [
    "start  = time.time()\n",
    "question1 = question1.apply(lambda x: word_tokenize(x))\n",
    "end = time.time()\n",
    "print(f'time taken = {start - end}')"
   ]
  },
  {
   "cell_type": "code",
   "execution_count": null,
   "metadata": {},
   "outputs": [],
   "source": [
    "# start  = time.time()\n",
    "# question1_map =pd.Series(list(map(word_tokenize,question1)))\n",
    "# end = time.time()\n",
    "# print(f'time taken = {start - end}')"
   ]
  },
  {
   "cell_type": "code",
   "execution_count": null,
   "metadata": {},
   "outputs": [],
   "source": [
    "# Stopwords removal\n",
    "from nltk.corpus import stopwords"
   ]
  },
  {
   "cell_type": "code",
   "execution_count": null,
   "metadata": {},
   "outputs": [],
   "source": [
    " question1_stopwords = question1.apply(lambda x: (c for c in x if c not in stopwords.words('english')))"
   ]
  },
  {
   "cell_type": "code",
   "execution_count": null,
   "metadata": {},
   "outputs": [],
   "source": [
    "question1_stopwords = list(map(lambda x: [word for word in x if word not in stopwords.words('english')], question1))"
   ]
  },
  {
   "cell_type": "code",
   "execution_count": null,
   "metadata": {},
   "outputs": [],
   "source": [
    "question2_stopwords = list(map(lambda x: [word for word in x if word not in stopwords.words('english')], question2))"
   ]
  },
  {
   "cell_type": "code",
   "execution_count": null,
   "metadata": {},
   "outputs": [],
   "source": [
    "# Lemmatization\n",
    "from nltk import pos_tag\n",
    "# Due to the amount of data, pos tagging is taking a long time. So we are skipping it for now"
   ]
  },
  {
   "cell_type": "code",
   "execution_count": null,
   "metadata": {},
   "outputs": [],
   "source": [
    "# question1_pos = question1_stopwords.apply(lambda x : pos_tag(x))"
   ]
  },
  {
   "cell_type": "code",
   "execution_count": null,
   "metadata": {},
   "outputs": [],
   "source": [
    "# question2_pos = question2_stopwords.apply(lambda x : pos_tag(x))"
   ]
  },
  {
   "cell_type": "code",
   "execution_count": null,
   "metadata": {},
   "outputs": [],
   "source": [
    "from nltk.stem import PorterStemmer"
   ]
  },
  {
   "cell_type": "code",
   "execution_count": null,
   "metadata": {},
   "outputs": [],
   "source": [
    "stemmer = PorterStemmer()\n"
   ]
  },
  {
   "cell_type": "code",
   "execution_count": null,
   "metadata": {},
   "outputs": [],
   "source": [
    "list(map(stemmer.stem, ))"
   ]
  },
  {
   "cell_type": "code",
   "execution_count": null,
   "metadata": {},
   "outputs": [],
   "source": []
  }
 ],
 "metadata": {
  "kernelspec": {
   "display_name": "Python 3",
   "language": "python",
   "name": "python3"
  },
  "language_info": {
   "codemirror_mode": {
    "name": "ipython",
    "version": 3
   },
   "file_extension": ".py",
   "mimetype": "text/x-python",
   "name": "python",
   "nbconvert_exporter": "python",
   "pygments_lexer": "ipython3",
   "version": "3.7.6"
  }
 },
 "nbformat": 4,
 "nbformat_minor": 4
}
